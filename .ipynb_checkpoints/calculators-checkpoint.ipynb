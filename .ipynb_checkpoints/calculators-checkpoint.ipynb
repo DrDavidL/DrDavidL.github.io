{
 "cells": [
  {
   "cell_type": "markdown",
   "id": "5ad1e320-0f18-4013-8f3e-251bcef93ab1",
   "metadata": {},
   "source": [
    "# Let's try out some calculators!"
   ]
  },
  {
   "cell_type": "code",
   "execution_count": 15,
   "id": "efc565c8-1bd3-419e-a607-7ec018f46697",
   "metadata": {},
   "outputs": [
    {
     "name": "stdin",
     "output_type": "stream",
     "text": [
      "Enter your height in inches:  71.5\n",
      "Enter your weight in pounds:  174\n"
     ]
    }
   ],
   "source": [
    "height = float(input(\"Enter your height in inches: \"))\n",
    "weight = float(input(\"Enter your weight in pounds: \"))"
   ]
  },
  {
   "cell_type": "code",
   "execution_count": 16,
   "id": "de95a8f8-4e34-4c29-afa7-1b8640cf33cd",
   "metadata": {},
   "outputs": [],
   "source": [
    "weightkg = weight * 0.453592\n",
    "heightcm = height * 2.54"
   ]
  },
  {
   "cell_type": "code",
   "execution_count": 18,
   "id": "9debe353-599d-4c54-9e4e-70faef5384b0",
   "metadata": {},
   "outputs": [
    {
     "name": "stdout",
     "output_type": "stream",
     "text": [
      "23.9\n"
     ]
    }
   ],
   "source": [
    "bmi = weightkg / (heightcm/100)**2\n",
    "print(round(bmi,1))"
   ]
  },
  {
   "cell_type": "code",
   "execution_count": null,
   "id": "846a967b-b6d9-4c88-b1ac-411ea90d43e6",
   "metadata": {},
   "outputs": [],
   "source": []
  }
 ],
 "metadata": {
  "kernelspec": {
   "display_name": "Python 3 (ipykernel)",
   "language": "python",
   "name": "python3"
  },
  "language_info": {
   "codemirror_mode": {
    "name": "ipython",
    "version": 3
   },
   "file_extension": ".py",
   "mimetype": "text/x-python",
   "name": "python",
   "nbconvert_exporter": "python",
   "pygments_lexer": "ipython3",
   "version": "3.9.7"
  }
 },
 "nbformat": 4,
 "nbformat_minor": 5
}
