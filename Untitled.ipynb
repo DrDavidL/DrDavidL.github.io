{
 "cells": [
  {
   "cell_type": "markdown",
   "id": "b30f3910-0dea-4f6c-a736-0aee4152ba67",
   "metadata": {},
   "source": [
    "Khan S, Ning H, Shah S, et al. 10-Year Risk Equations for Incident Heart Failure in the General Population. J Am Coll Cardiol. 2019 May, 73 (19) 2388–2397.\n",
    "https://doi.org/10.1016/j.jacc.2019.02.057"
   ]
  },
  {
   "cell_type": "code",
   "execution_count": null,
   "id": "b1db4293-956f-4d7d-88a4-ea0470a16df9",
   "metadata": {},
   "outputs": [],
   "source": []
  }
 ],
 "metadata": {
  "kernelspec": {
   "display_name": "Python 3 (ipykernel)",
   "language": "python",
   "name": "python3"
  },
  "language_info": {
   "codemirror_mode": {
    "name": "ipython",
    "version": 3
   },
   "file_extension": ".py",
   "mimetype": "text/x-python",
   "name": "python",
   "nbconvert_exporter": "python",
   "pygments_lexer": "ipython3",
   "version": "3.9.7"
  }
 },
 "nbformat": 4,
 "nbformat_minor": 5
}
